{
 "cells": [
  {
   "cell_type": "code",
   "execution_count": 1,
   "metadata": {},
   "outputs": [],
   "source": [
    "import pandas as pd\n",
    "from pathlib import Path\n",
    "from read_data import clean_text"
   ]
  },
  {
   "cell_type": "markdown",
   "metadata": {},
   "source": [
    "# load datasets"
   ]
  },
  {
   "cell_type": "markdown",
   "metadata": {},
   "source": [
    "## new dataset"
   ]
  },
  {
   "cell_type": "code",
   "execution_count": 2,
   "metadata": {},
   "outputs": [],
   "source": [
    "path=\"AI-GA/ai-ga-dataset.csv\""
   ]
  },
  {
   "cell_type": "code",
   "execution_count": 3,
   "metadata": {},
   "outputs": [],
   "source": [
    "df_new=pd.read_csv(path)"
   ]
  },
  {
   "cell_type": "markdown",
   "metadata": {},
   "source": [
    "### info:\n",
    "- label 0 :: original abstract\n",
    "- label 1 :: generated abstract"
   ]
  },
  {
   "cell_type": "markdown",
   "metadata": {},
   "source": [
    "## work dataset"
   ]
  },
  {
   "cell_type": "code",
   "execution_count": 4,
   "metadata": {},
   "outputs": [
    {
     "name": "stdout",
     "output_type": "stream",
     "text": [
      "--2025-02-27 14:39:25--  https://github.com/vijini/GeneratedTextDetection/archive/refs/heads/main.zip\n",
      "Resolving github.com (github.com)... 20.26.156.215\n",
      "Connecting to github.com (github.com)|20.26.156.215|:443... connected.\n",
      "HTTP request sent, awaiting response... 302 Found\n",
      "Location: https://codeload.github.com/vijini/GeneratedTextDetection/zip/refs/heads/main [following]\n",
      "--2025-02-27 14:39:25--  https://codeload.github.com/vijini/GeneratedTextDetection/zip/refs/heads/main\n",
      "Resolving codeload.github.com (codeload.github.com)... 20.26.156.216\n",
      "Connecting to codeload.github.com (codeload.github.com)|20.26.156.216|:443... connected.\n",
      "HTTP request sent, awaiting response... 200 OK\n",
      "Length: unspecified [application/zip]\n",
      "Saving to: ‘main.zip’\n",
      "\n",
      "main.zip                [ <=>                ] 800.25K  --.-KB/s    in 0.07s   \n",
      "\n",
      "2025-02-27 14:39:25 (10.6 MB/s) - ‘main.zip’ saved [819461]\n",
      "\n",
      "Archive:  main.zip\n",
      "ab034465f857a93212a894fe598edb749345b6ff\n",
      "   creating: GeneratedTextDetection-main/\n",
      "  inflating: GeneratedTextDetection-main/BLEU_sentence.py  \n",
      "   creating: GeneratedTextDetection-main/Dataset/\n",
      "   creating: GeneratedTextDetection-main/Dataset/FullyGenerated/\n",
      "  inflating: GeneratedTextDetection-main/Dataset/FullyGenerated/2110.09779_generated.txt  \n",
      "  inflating: GeneratedTextDetection-main/Dataset/FullyGenerated/2110.09779_original.txt  \n",
      "  inflating: GeneratedTextDetection-main/Dataset/FullyGenerated/2110.10319_generated.txt  \n",
      "  inflating: GeneratedTextDetection-main/Dataset/FullyGenerated/2110.10319_original.txt  \n",
      "  inflating: GeneratedTextDetection-main/Dataset/FullyGenerated/2110.10329_generated.txt  \n",
      "  inflating: GeneratedTextDetection-main/Dataset/FullyGenerated/2110.10329_original.txt  \n",
      "  inflating: GeneratedTextDetection-main/Dataset/FullyGenerated/2110.10340_generated.txt  \n",
      "  inflating: GeneratedTextDetection-main/Dataset/FullyGenerated/2110.10340_original.txt  \n",
      "  inflating: GeneratedTextDetection-main/Dataset/FullyGenerated/2110.10478_generated.txt  \n",
      "  inflating: GeneratedTextDetection-main/Dataset/FullyGenerated/2110.10478_original.txt  \n",
      "  inflating: GeneratedTextDetection-main/Dataset/FullyGenerated/2110.10575_generated.txt  \n",
      "  inflating: GeneratedTextDetection-main/Dataset/FullyGenerated/2110.10575_original.txt  \n",
      "  inflating: GeneratedTextDetection-main/Dataset/FullyGenerated/2110.10577_generated.txt  \n",
      "  inflating: GeneratedTextDetection-main/Dataset/FullyGenerated/2110.10577_original.txt  \n",
      "  inflating: GeneratedTextDetection-main/Dataset/FullyGenerated/2110.10778_generated.txt  \n",
      "  inflating: GeneratedTextDetection-main/Dataset/FullyGenerated/2110.10778_original.txt  \n",
      "  inflating: GeneratedTextDetection-main/Dataset/FullyGenerated/2110.10817_generated.txt  \n",
      "  inflating: GeneratedTextDetection-main/Dataset/FullyGenerated/2110.10817_original.txt  \n",
      "  inflating: GeneratedTextDetection-main/Dataset/FullyGenerated/2110.11115_generated.txt  \n",
      "  inflating: GeneratedTextDetection-main/Dataset/FullyGenerated/2110.11115_original.txt  \n",
      "  inflating: GeneratedTextDetection-main/Dataset/FullyGenerated/2110.11205_generated.txt  \n",
      "  inflating: GeneratedTextDetection-main/Dataset/FullyGenerated/2110.11205_original.txt  \n",
      "  inflating: GeneratedTextDetection-main/Dataset/FullyGenerated/2110.11207_generated.txt  \n",
      "  inflating: GeneratedTextDetection-main/Dataset/FullyGenerated/2110.11207_original.txt  \n",
      "  inflating: GeneratedTextDetection-main/Dataset/FullyGenerated/2110.11589_generated.txt  \n",
      "  inflating: GeneratedTextDetection-main/Dataset/FullyGenerated/2110.11589_original.txt  \n",
      "  inflating: GeneratedTextDetection-main/Dataset/FullyGenerated/2110.11879_generated.txt  \n",
      "  inflating: GeneratedTextDetection-main/Dataset/FullyGenerated/2110.11879_original.txt  \n",
      "  inflating: GeneratedTextDetection-main/Dataset/FullyGenerated/2110.11984_generated.txt  \n",
      "  inflating: GeneratedTextDetection-main/Dataset/FullyGenerated/2110.11984_original.txt  \n",
      "  inflating: GeneratedTextDetection-main/Dataset/FullyGenerated/2110.12010_generated.txt  \n",
      "  inflating: GeneratedTextDetection-main/Dataset/FullyGenerated/2110.12010_original.txt  \n",
      "  inflating: GeneratedTextDetection-main/Dataset/FullyGenerated/2110.12341_generated.txt  \n",
      "  inflating: GeneratedTextDetection-main/Dataset/FullyGenerated/2110.12341_original.txt  \n",
      "  inflating: GeneratedTextDetection-main/Dataset/FullyGenerated/2110.12383_generated.txt  \n",
      "  inflating: GeneratedTextDetection-main/Dataset/FullyGenerated/2110.12383_original.txt  \n",
      "  inflating: GeneratedTextDetection-main/Dataset/FullyGenerated/2110.12501_generated.txt  \n",
      "  inflating: GeneratedTextDetection-main/Dataset/FullyGenerated/2110.12501_original.txt  \n",
      "  inflating: GeneratedTextDetection-main/Dataset/FullyGenerated/2110.12552_generated.txt  \n",
      "  inflating: GeneratedTextDetection-main/Dataset/FullyGenerated/2110.12552_original.txt  \n",
      "  inflating: GeneratedTextDetection-main/Dataset/FullyGenerated/2110.12645_generated.txt  \n",
      "  inflating: GeneratedTextDetection-main/Dataset/FullyGenerated/2110.12645_original.txt  \n",
      "  inflating: GeneratedTextDetection-main/Dataset/FullyGenerated/2110.12765_generated.txt  \n",
      "  inflating: GeneratedTextDetection-main/Dataset/FullyGenerated/2110.12765_original.txt  \n",
      "  inflating: GeneratedTextDetection-main/Dataset/FullyGenerated/2110.13229_generated.txt  \n",
      "  inflating: GeneratedTextDetection-main/Dataset/FullyGenerated/2110.13229_original.txt  \n",
      "  inflating: GeneratedTextDetection-main/Dataset/FullyGenerated/2110.13317_generated.txt  \n",
      "  inflating: GeneratedTextDetection-main/Dataset/FullyGenerated/2110.13317_original.txt  \n",
      "  inflating: GeneratedTextDetection-main/Dataset/FullyGenerated/2110.13472_generated.txt  \n",
      "  inflating: GeneratedTextDetection-main/Dataset/FullyGenerated/2110.13472_original.txt  \n",
      "  inflating: GeneratedTextDetection-main/Dataset/FullyGenerated/2110.13658_generated.txt  \n",
      "  inflating: GeneratedTextDetection-main/Dataset/FullyGenerated/2110.13658_original.txt  \n",
      "  inflating: GeneratedTextDetection-main/Dataset/FullyGenerated/2110.13900_generated.txt  \n",
      "  inflating: GeneratedTextDetection-main/Dataset/FullyGenerated/2110.13900_original.txt  \n",
      "  inflating: GeneratedTextDetection-main/Dataset/FullyGenerated/2110.14532_generated.txt  \n",
      "  inflating: GeneratedTextDetection-main/Dataset/FullyGenerated/2110.14532_original.txt  \n",
      "  inflating: GeneratedTextDetection-main/Dataset/FullyGenerated/2110.15023_generated.txt  \n",
      "  inflating: GeneratedTextDetection-main/Dataset/FullyGenerated/2110.15023_original.txt  \n",
      "  inflating: GeneratedTextDetection-main/Dataset/FullyGenerated/2110.15130_generated.txt  \n",
      "  inflating: GeneratedTextDetection-main/Dataset/FullyGenerated/2110.15130_original.txt  \n",
      "  inflating: GeneratedTextDetection-main/Dataset/FullyGenerated/2110.15317_generated.txt  \n",
      "  inflating: GeneratedTextDetection-main/Dataset/FullyGenerated/2110.15317_original.txt  \n",
      "  inflating: GeneratedTextDetection-main/Dataset/FullyGenerated/2110.15534_generated.txt  \n",
      "  inflating: GeneratedTextDetection-main/Dataset/FullyGenerated/2110.15534_original.txt  \n",
      "  inflating: GeneratedTextDetection-main/Dataset/FullyGenerated/2110.15705_generated.txt  \n",
      "  inflating: GeneratedTextDetection-main/Dataset/FullyGenerated/2110.15705_original.txt  \n",
      "  inflating: GeneratedTextDetection-main/Dataset/FullyGenerated/2110.15707_generated.txt  \n",
      "  inflating: GeneratedTextDetection-main/Dataset/FullyGenerated/2110.15707_original.txt  \n",
      "  inflating: GeneratedTextDetection-main/Dataset/FullyGenerated/2110.15724_generated.txt  \n",
      "  inflating: GeneratedTextDetection-main/Dataset/FullyGenerated/2110.15724_original.txt  \n",
      "  inflating: GeneratedTextDetection-main/Dataset/FullyGenerated/2110.15725_generated.txt  \n",
      "  inflating: GeneratedTextDetection-main/Dataset/FullyGenerated/2110.15725_original.txt  \n",
      "  inflating: GeneratedTextDetection-main/Dataset/FullyGenerated/2110.15799_generated.txt  \n",
      "  inflating: GeneratedTextDetection-main/Dataset/FullyGenerated/2110.15799_original.txt  \n",
      "  inflating: GeneratedTextDetection-main/Dataset/FullyGenerated/2110.15802_generated.txt  \n",
      "  inflating: GeneratedTextDetection-main/Dataset/FullyGenerated/2110.15802_original.txt  \n",
      "  inflating: GeneratedTextDetection-main/Dataset/FullyGenerated/2111.00035_generated.txt  \n",
      "  inflating: GeneratedTextDetection-main/Dataset/FullyGenerated/2111.00035_original.txt  \n",
      "  inflating: GeneratedTextDetection-main/Dataset/FullyGenerated/2111.00086_generated.txt  \n",
      "  inflating: GeneratedTextDetection-main/Dataset/FullyGenerated/2111.00086_original.txt  \n",
      "  inflating: GeneratedTextDetection-main/Dataset/FullyGenerated/2111.00180_generated.txt  \n",
      "  inflating: GeneratedTextDetection-main/Dataset/FullyGenerated/2111.00180_original.txt  \n",
      "  inflating: GeneratedTextDetection-main/Dataset/FullyGenerated/2111.00310_generated.txt  \n",
      "  inflating: GeneratedTextDetection-main/Dataset/FullyGenerated/2111.00310_original.txt  \n",
      "  inflating: GeneratedTextDetection-main/Dataset/FullyGenerated/2111.00514_generated.txt  \n",
      "  inflating: GeneratedTextDetection-main/Dataset/FullyGenerated/2111.00514_original.txt  \n",
      "  inflating: GeneratedTextDetection-main/Dataset/FullyGenerated/2111.00526_generated.txt  \n",
      "  inflating: GeneratedTextDetection-main/Dataset/FullyGenerated/2111.00526_original.txt  \n",
      "  inflating: GeneratedTextDetection-main/Dataset/FullyGenerated/2111.00554_generated.txt  \n",
      "  inflating: GeneratedTextDetection-main/Dataset/FullyGenerated/2111.00554_original.txt  \n",
      "  inflating: GeneratedTextDetection-main/Dataset/FullyGenerated/2111.00572_generated.txt  \n",
      "  inflating: GeneratedTextDetection-main/Dataset/FullyGenerated/2111.00572_original.txt  \n",
      "  inflating: GeneratedTextDetection-main/Dataset/FullyGenerated/2111.00607_generated.txt  \n",
      "  inflating: GeneratedTextDetection-main/Dataset/FullyGenerated/2111.00607_original.txt  \n",
      "  inflating: GeneratedTextDetection-main/Dataset/FullyGenerated/2111.00667_generated.txt  \n",
      "  inflating: GeneratedTextDetection-main/Dataset/FullyGenerated/2111.00667_original.txt  \n",
      "  inflating: GeneratedTextDetection-main/Dataset/FullyGenerated/2111.00808_generated.txt  \n",
      "  inflating: GeneratedTextDetection-main/Dataset/FullyGenerated/2111.00808_original.txt  \n",
      "  inflating: GeneratedTextDetection-main/Dataset/FullyGenerated/2111.00867_generated.txt  \n",
      "  inflating: GeneratedTextDetection-main/Dataset/FullyGenerated/2111.00867_original.txt  \n",
      "  inflating: GeneratedTextDetection-main/Dataset/FullyGenerated/2111.01023_generated.txt  \n",
      "  inflating: GeneratedTextDetection-main/Dataset/FullyGenerated/2111.01023_original.txt  \n",
      "  inflating: GeneratedTextDetection-main/Dataset/FullyGenerated/2111.01231_generated.txt  \n",
      "  inflating: GeneratedTextDetection-main/Dataset/FullyGenerated/2111.01231_original.txt  \n",
      "  inflating: GeneratedTextDetection-main/Dataset/FullyGenerated/2111.01243_generated.txt  \n",
      "  inflating: GeneratedTextDetection-main/Dataset/FullyGenerated/2111.01243_original.txt  \n",
      "  inflating: GeneratedTextDetection-main/Dataset/FullyGenerated/2111.01322_generated.txt  \n",
      "  inflating: GeneratedTextDetection-main/Dataset/FullyGenerated/2111.01322_original.txt  \n",
      "  inflating: GeneratedTextDetection-main/Dataset/FullyGenerated/2111.01340_generated.txt  \n",
      "  inflating: GeneratedTextDetection-main/Dataset/FullyGenerated/2111.01340_original.txt  \n",
      "  inflating: GeneratedTextDetection-main/Dataset/FullyGenerated/2111.01515_generated.txt  \n",
      "  inflating: GeneratedTextDetection-main/Dataset/FullyGenerated/2111.01515_original.txt  \n",
      "  inflating: GeneratedTextDetection-main/Dataset/FullyGenerated/2111.01676_generated.txt  \n",
      "  inflating: GeneratedTextDetection-main/Dataset/FullyGenerated/2111.01676_original.txt  \n",
      "  inflating: GeneratedTextDetection-main/Dataset/FullyGenerated/2111.01706_generated.txt  \n",
      "  inflating: GeneratedTextDetection-main/Dataset/FullyGenerated/2111.01706_original.txt  \n",
      "  inflating: GeneratedTextDetection-main/Dataset/FullyGenerated/2111.02041_generated.txt  \n",
      "  inflating: GeneratedTextDetection-main/Dataset/FullyGenerated/2111.02041_original.txt  \n",
      "  inflating: GeneratedTextDetection-main/Dataset/FullyGenerated/2111.02110_generated.txt  \n",
      "  inflating: GeneratedTextDetection-main/Dataset/FullyGenerated/2111.02110_original.txt  \n",
      "  inflating: GeneratedTextDetection-main/Dataset/FullyGenerated/2111.02188_generated.txt  \n",
      "  inflating: GeneratedTextDetection-main/Dataset/FullyGenerated/2111.02188_original.txt  \n",
      "  inflating: GeneratedTextDetection-main/Dataset/FullyGenerated/2111.02259_generated.txt  \n",
      "  inflating: GeneratedTextDetection-main/Dataset/FullyGenerated/2111.02259_original.txt  \n",
      "  inflating: GeneratedTextDetection-main/Dataset/FullyGenerated/2111.02326_generated.txt  \n",
      "  inflating: GeneratedTextDetection-main/Dataset/FullyGenerated/2111.02326_original.txt  \n",
      "  inflating: GeneratedTextDetection-main/Dataset/FullyGenerated/2111.02362_generated.txt  \n",
      "  inflating: GeneratedTextDetection-main/Dataset/FullyGenerated/2111.02362_original.txt  \n",
      "  inflating: GeneratedTextDetection-main/Dataset/FullyGenerated/2111.02574_generated.txt  \n",
      "  inflating: GeneratedTextDetection-main/Dataset/FullyGenerated/2111.02574_original.txt  \n",
      "  inflating: GeneratedTextDetection-main/Dataset/FullyGenerated/2111.02643_generated.txt  \n",
      "  inflating: GeneratedTextDetection-main/Dataset/FullyGenerated/2111.02643_original.txt  \n",
      "  inflating: GeneratedTextDetection-main/Dataset/FullyGenerated/2111.02687_generated.txt  \n",
      "  inflating: GeneratedTextDetection-main/Dataset/FullyGenerated/2111.02687_original.txt  \n",
      "  inflating: GeneratedTextDetection-main/Dataset/FullyGenerated/2111.02760_generated.txt  \n",
      "  inflating: GeneratedTextDetection-main/Dataset/FullyGenerated/2111.02760_original.txt  \n",
      "  inflating: GeneratedTextDetection-main/Dataset/FullyGenerated/2111.02844_generated.txt  \n",
      "  inflating: GeneratedTextDetection-main/Dataset/FullyGenerated/2111.02844_original.txt  \n",
      "  inflating: GeneratedTextDetection-main/Dataset/FullyGenerated/2111.03294_generated.txt  \n",
      "  inflating: GeneratedTextDetection-main/Dataset/FullyGenerated/2111.03294_original.txt  \n",
      "  inflating: GeneratedTextDetection-main/Dataset/FullyGenerated/2111.03320_generated.txt  \n",
      "  inflating: GeneratedTextDetection-main/Dataset/FullyGenerated/2111.03320_original.txt  \n",
      "  inflating: GeneratedTextDetection-main/Dataset/FullyGenerated/2111.03612_generated.txt  \n",
      "  inflating: GeneratedTextDetection-main/Dataset/FullyGenerated/2111.03612_original.txt  \n",
      "  inflating: GeneratedTextDetection-main/Dataset/FullyGenerated/2111.03715_generated.txt  \n",
      "  inflating: GeneratedTextDetection-main/Dataset/FullyGenerated/2111.03715_original.txt  \n",
      "  inflating: GeneratedTextDetection-main/Dataset/FullyGenerated/2111.03800_generated.txt  \n",
      "  inflating: GeneratedTextDetection-main/Dataset/FullyGenerated/2111.03800_original.txt  \n",
      "  inflating: GeneratedTextDetection-main/Dataset/FullyGenerated/2111.03837_generated.txt  \n",
      "  inflating: GeneratedTextDetection-main/Dataset/FullyGenerated/2111.03837_original.txt  \n",
      "  inflating: GeneratedTextDetection-main/Dataset/FullyGenerated/2111.03913_generated.txt  \n",
      "  inflating: GeneratedTextDetection-main/Dataset/FullyGenerated/2111.03913_original.txt  \n",
      "  inflating: GeneratedTextDetection-main/Dataset/FullyGenerated/2111.03945_generated.txt  \n",
      "  inflating: GeneratedTextDetection-main/Dataset/FullyGenerated/2111.03945_original.txt  \n",
      "  inflating: GeneratedTextDetection-main/Dataset/FullyGenerated/2111.04130_generated.txt  \n",
      "  inflating: GeneratedTextDetection-main/Dataset/FullyGenerated/2111.04130_original.txt  \n",
      "  inflating: GeneratedTextDetection-main/Dataset/FullyGenerated/2111.04416_generated.txt  \n",
      "  inflating: GeneratedTextDetection-main/Dataset/FullyGenerated/2111.04416_original.txt  \n",
      "  inflating: GeneratedTextDetection-main/Dataset/FullyGenerated/2111.04507_generated.txt  \n",
      "  inflating: GeneratedTextDetection-main/Dataset/FullyGenerated/2111.04507_original.txt  \n",
      "  inflating: GeneratedTextDetection-main/Dataset/FullyGenerated/2111.04574_generated.txt  \n",
      "  inflating: GeneratedTextDetection-main/Dataset/FullyGenerated/2111.04574_original.txt  \n",
      "  inflating: GeneratedTextDetection-main/Dataset/FullyGenerated/2111.05204_generated.txt  \n",
      "  inflating: GeneratedTextDetection-main/Dataset/FullyGenerated/2111.05204_original.txt  \n",
      "  inflating: GeneratedTextDetection-main/Dataset/FullyGenerated/2111.05241_generated.txt  \n",
      "  inflating: GeneratedTextDetection-main/Dataset/FullyGenerated/2111.05241_original.txt  \n",
      "  inflating: GeneratedTextDetection-main/Dataset/FullyGenerated/2111.05754_generated.txt  \n",
      "  inflating: GeneratedTextDetection-main/Dataset/FullyGenerated/2111.05754_original.txt  \n",
      "  inflating: GeneratedTextDetection-main/Dataset/FullyGenerated/2111.06012_generated.txt  \n",
      "  inflating: GeneratedTextDetection-main/Dataset/FullyGenerated/2111.06012_original.txt  \n",
      "  inflating: GeneratedTextDetection-main/Dataset/FullyGenerated/2111.06181_generated.txt  \n",
      "  inflating: GeneratedTextDetection-main/Dataset/FullyGenerated/2111.06181_original.txt  \n",
      "  inflating: GeneratedTextDetection-main/Dataset/FullyGenerated/2111.06230_generated.txt  \n",
      "  inflating: GeneratedTextDetection-main/Dataset/FullyGenerated/2111.06230_original.txt  \n",
      "  inflating: GeneratedTextDetection-main/Dataset/FullyGenerated/2111.06464_generated.txt  \n",
      "  inflating: GeneratedTextDetection-main/Dataset/FullyGenerated/2111.06464_original.txt  \n",
      "  inflating: GeneratedTextDetection-main/Dataset/FullyGenerated/2111.06580_generated.txt  \n",
      "  inflating: GeneratedTextDetection-main/Dataset/FullyGenerated/2111.06580_original.txt  \n",
      "  inflating: GeneratedTextDetection-main/Dataset/FullyGenerated/2111.06644_generated.txt  \n",
      "  inflating: GeneratedTextDetection-main/Dataset/FullyGenerated/2111.06644_original.txt  \n",
      "  inflating: GeneratedTextDetection-main/Dataset/FullyGenerated/2111.07267_generated.txt  \n",
      "  inflating: GeneratedTextDetection-main/Dataset/FullyGenerated/2111.07267_original.txt  \n",
      "  inflating: GeneratedTextDetection-main/Dataset/FullyGenerated/2111.07408_generated.txt  \n",
      "  inflating: GeneratedTextDetection-main/Dataset/FullyGenerated/2111.07408_original.txt  \n",
      "  inflating: GeneratedTextDetection-main/Dataset/FullyGenerated/2111.07525_generated.txt  \n",
      "  inflating: GeneratedTextDetection-main/Dataset/FullyGenerated/2111.07525_original.txt  \n",
      "  inflating: GeneratedTextDetection-main/Dataset/FullyGenerated/2111.07611_generated.txt  \n",
      "  inflating: GeneratedTextDetection-main/Dataset/FullyGenerated/2111.07611_original.txt  \n",
      "  inflating: GeneratedTextDetection-main/Dataset/FullyGenerated/2111.07699_generated.txt  \n",
      "  inflating: GeneratedTextDetection-main/Dataset/FullyGenerated/2111.07699_original.txt  \n",
      "  inflating: GeneratedTextDetection-main/Dataset/FullyGenerated/2111.07793_generated.txt  \n",
      "  inflating: GeneratedTextDetection-main/Dataset/FullyGenerated/2111.07793_original.txt  \n",
      "  inflating: GeneratedTextDetection-main/Dataset/FullyGenerated/2111.15093_generated.txt  \n",
      "  inflating: GeneratedTextDetection-main/Dataset/FullyGenerated/2111.15093_original.txt  \n",
      "  inflating: GeneratedTextDetection-main/Dataset/FullyGenerated/2111.15436_generated.txt  \n",
      "  inflating: GeneratedTextDetection-main/Dataset/FullyGenerated/2111.15436_original.txt  \n",
      "  inflating: GeneratedTextDetection-main/Dataset/FullyGenerated/2111.15473_generated.txt  \n",
      "  inflating: GeneratedTextDetection-main/Dataset/FullyGenerated/2111.15473_original.txt  \n",
      "  inflating: GeneratedTextDetection-main/Dataset/FullyGenerated/2112.00405_generated.txt  \n",
      "  inflating: GeneratedTextDetection-main/Dataset/FullyGenerated/2112.00405_original.txt  \n",
      " extracting: GeneratedTextDetection-main/Dataset/FullyGenerated/data  \n",
      "   creating: GeneratedTextDetection-main/Dataset/Hybrid_AbstractDataset/\n",
      "  inflating: GeneratedTextDetection-main/Dataset/Hybrid_AbstractDataset/2111.09381_generatedAbstract.txt  \n",
      "  inflating: GeneratedTextDetection-main/Dataset/Hybrid_AbstractDataset/2111.09381_originalAbstract.txt  \n",
      "  inflating: GeneratedTextDetection-main/Dataset/Hybrid_AbstractDataset/2111.09388_generatedAbstract.txt  \n",
      "  inflating: GeneratedTextDetection-main/Dataset/Hybrid_AbstractDataset/2111.09388_originalAbstract.txt  \n",
      "  inflating: GeneratedTextDetection-main/Dataset/Hybrid_AbstractDataset/2111.09412_generatedAbstract.txt  \n",
      "  inflating: GeneratedTextDetection-main/Dataset/Hybrid_AbstractDataset/2111.09412_originalAbstract.txt  \n",
      "  inflating: GeneratedTextDetection-main/Dataset/Hybrid_AbstractDataset/2111.09478_generatedAbstract.txt  \n",
      "  inflating: GeneratedTextDetection-main/Dataset/Hybrid_AbstractDataset/2111.09478_originalAbstract.txt  \n",
      "  inflating: GeneratedTextDetection-main/Dataset/Hybrid_AbstractDataset/2111.09739_generatedAbstract.txt  \n",
      "  inflating: GeneratedTextDetection-main/Dataset/Hybrid_AbstractDataset/2111.09739_originalAbstract.txt  \n",
      "  inflating: GeneratedTextDetection-main/Dataset/Hybrid_AbstractDataset/2111.09794_generatedAbstract.txt  \n",
      "  inflating: GeneratedTextDetection-main/Dataset/Hybrid_AbstractDataset/2111.09794_originalAbstract.txt  \n",
      "  inflating: GeneratedTextDetection-main/Dataset/Hybrid_AbstractDataset/2111.09851_generatedAbstract.txt  \n",
      "  inflating: GeneratedTextDetection-main/Dataset/Hybrid_AbstractDataset/2111.09851_originalAbstract.txt  \n",
      "  inflating: GeneratedTextDetection-main/Dataset/Hybrid_AbstractDataset/2111.09884_generatedAbstract.txt  \n",
      "  inflating: GeneratedTextDetection-main/Dataset/Hybrid_AbstractDataset/2111.09884_originalAbstract.txt  \n",
      "  inflating: GeneratedTextDetection-main/Dataset/Hybrid_AbstractDataset/2111.09939_generatedAbstract.txt  \n",
      "  inflating: GeneratedTextDetection-main/Dataset/Hybrid_AbstractDataset/2111.09939_originalAbstract.txt  \n",
      "  inflating: GeneratedTextDetection-main/Dataset/Hybrid_AbstractDataset/2111.10044_generatedAbstract.txt  \n",
      "  inflating: GeneratedTextDetection-main/Dataset/Hybrid_AbstractDataset/2111.10044_originalAbstract.txt  \n",
      "  inflating: GeneratedTextDetection-main/Dataset/Hybrid_AbstractDataset/2111.10056_generatedAbstract.txt  \n",
      "  inflating: GeneratedTextDetection-main/Dataset/Hybrid_AbstractDataset/2111.10056_originalAbstract.txt  \n",
      "  inflating: GeneratedTextDetection-main/Dataset/Hybrid_AbstractDataset/2111.10280_generatedAbstract.txt  \n",
      "  inflating: GeneratedTextDetection-main/Dataset/Hybrid_AbstractDataset/2111.10280_originalAbstract.txt  \n",
      "  inflating: GeneratedTextDetection-main/Dataset/Hybrid_AbstractDataset/2111.10291_generatedAbstract.txt  \n",
      "  inflating: GeneratedTextDetection-main/Dataset/Hybrid_AbstractDataset/2111.10291_originalAbstract.txt  \n",
      "  inflating: GeneratedTextDetection-main/Dataset/Hybrid_AbstractDataset/2111.10297_generatedAbstract.txt  \n",
      "  inflating: GeneratedTextDetection-main/Dataset/Hybrid_AbstractDataset/2111.10297_originalAbstract.txt  \n",
      "  inflating: GeneratedTextDetection-main/Dataset/Hybrid_AbstractDataset/2111.10309_generatedAbstract.txt  \n",
      "  inflating: GeneratedTextDetection-main/Dataset/Hybrid_AbstractDataset/2111.10309_originalAbstract.txt  \n",
      "  inflating: GeneratedTextDetection-main/Dataset/Hybrid_AbstractDataset/2111.10452_generatedAbstract.txt  \n",
      "  inflating: GeneratedTextDetection-main/Dataset/Hybrid_AbstractDataset/2111.10452_originalAbstract.txt  \n",
      "  inflating: GeneratedTextDetection-main/Dataset/Hybrid_AbstractDataset/2111.10476_generatedAbstract.txt  \n",
      "  inflating: GeneratedTextDetection-main/Dataset/Hybrid_AbstractDataset/2111.10476_originalAbstract.txt  \n",
      "  inflating: GeneratedTextDetection-main/Dataset/Hybrid_AbstractDataset/2111.10488_generatedAbstract.txt  \n",
      "  inflating: GeneratedTextDetection-main/Dataset/Hybrid_AbstractDataset/2111.10488_originalAbstract.txt  \n",
      "  inflating: GeneratedTextDetection-main/Dataset/Hybrid_AbstractDataset/2111.10501_generatedAbstract.txt  \n",
      "  inflating: GeneratedTextDetection-main/Dataset/Hybrid_AbstractDataset/2111.10501_originalAbstract.txt  \n",
      "  inflating: GeneratedTextDetection-main/Dataset/Hybrid_AbstractDataset/2111.10518_generatedAbstract.txt  \n",
      "  inflating: GeneratedTextDetection-main/Dataset/Hybrid_AbstractDataset/2111.10518_originalAbstract.txt  \n",
      "  inflating: GeneratedTextDetection-main/Dataset/Hybrid_AbstractDataset/2111.10522_generatedAbstract.txt  \n",
      "  inflating: GeneratedTextDetection-main/Dataset/Hybrid_AbstractDataset/2111.10522_originalAbstract.txt  \n",
      "  inflating: GeneratedTextDetection-main/Dataset/Hybrid_AbstractDataset/2111.10545_generatedAbstract.txt  \n",
      "  inflating: GeneratedTextDetection-main/Dataset/Hybrid_AbstractDataset/2111.10545_originalAbstract.txt  \n",
      "  inflating: GeneratedTextDetection-main/Dataset/Hybrid_AbstractDataset/2111.10595_generatedAbstract.txt  \n",
      "  inflating: GeneratedTextDetection-main/Dataset/Hybrid_AbstractDataset/2111.10595_originalAbstract.txt  \n",
      "  inflating: GeneratedTextDetection-main/Dataset/Hybrid_AbstractDataset/2111.10622_generatedAbstract.txt  \n",
      "  inflating: GeneratedTextDetection-main/Dataset/Hybrid_AbstractDataset/2111.10622_originalAbstract.txt  \n",
      "  inflating: GeneratedTextDetection-main/Dataset/Hybrid_AbstractDataset/2111.10625_generatedAbstract.txt  \n",
      "  inflating: GeneratedTextDetection-main/Dataset/Hybrid_AbstractDataset/2111.10625_originalAbstract.txt  \n",
      "  inflating: GeneratedTextDetection-main/Dataset/Hybrid_AbstractDataset/2111.10627_generatedAbstract.txt  \n",
      "  inflating: GeneratedTextDetection-main/Dataset/Hybrid_AbstractDataset/2111.10627_originalAbstract.txt  \n",
      "  inflating: GeneratedTextDetection-main/Dataset/Hybrid_AbstractDataset/2111.10734_generatedAbstract.txt  \n",
      "  inflating: GeneratedTextDetection-main/Dataset/Hybrid_AbstractDataset/2111.10734_originalAbstract.txt  \n",
      "  inflating: GeneratedTextDetection-main/Dataset/Hybrid_AbstractDataset/2111.10772_generatedAbstract.txt  \n",
      "  inflating: GeneratedTextDetection-main/Dataset/Hybrid_AbstractDataset/2111.10772_originalAbstract.txt  \n",
      "  inflating: GeneratedTextDetection-main/Dataset/Hybrid_AbstractDataset/2111.10831_generatedAbstract.txt  \n",
      "  inflating: GeneratedTextDetection-main/Dataset/Hybrid_AbstractDataset/2111.10831_originalAbstract.txt  \n",
      "  inflating: GeneratedTextDetection-main/Dataset/Hybrid_AbstractDataset/2111.10832_generatedAbstract.txt  \n",
      "  inflating: GeneratedTextDetection-main/Dataset/Hybrid_AbstractDataset/2111.10832_originalAbstract.txt  \n",
      "  inflating: GeneratedTextDetection-main/Dataset/Hybrid_AbstractDataset/2111.10847_generatedAbstract.txt  \n",
      "  inflating: GeneratedTextDetection-main/Dataset/Hybrid_AbstractDataset/2111.10847_originalAbstract.txt  \n",
      "  inflating: GeneratedTextDetection-main/Dataset/Hybrid_AbstractDataset/2111.10896_generatedAbstract.txt  \n",
      "  inflating: GeneratedTextDetection-main/Dataset/Hybrid_AbstractDataset/2111.10896_originalAbstract.txt  \n",
      "  inflating: GeneratedTextDetection-main/Dataset/Hybrid_AbstractDataset/2111.10897_generatedAbstract.txt  \n",
      "  inflating: GeneratedTextDetection-main/Dataset/Hybrid_AbstractDataset/2111.10897_originalAbstract.txt  \n",
      "  inflating: GeneratedTextDetection-main/Dataset/Hybrid_AbstractDataset/2111.10898_generatedAbstract.txt  \n",
      "  inflating: GeneratedTextDetection-main/Dataset/Hybrid_AbstractDataset/2111.10898_originalAbstract.txt  \n",
      "  inflating: GeneratedTextDetection-main/Dataset/Hybrid_AbstractDataset/2111.10970_generatedAbstract.txt  \n",
      "  inflating: GeneratedTextDetection-main/Dataset/Hybrid_AbstractDataset/2111.10970_originalAbstract.txt  \n",
      "  inflating: GeneratedTextDetection-main/Dataset/Hybrid_AbstractDataset/2111.11032_generatedAbstract.txt  \n",
      "  inflating: GeneratedTextDetection-main/Dataset/Hybrid_AbstractDataset/2111.11032_originalAbstract.txt  \n",
      "  inflating: GeneratedTextDetection-main/Dataset/Hybrid_AbstractDataset/2111.11090_generatedAbstract.txt  \n",
      "  inflating: GeneratedTextDetection-main/Dataset/Hybrid_AbstractDataset/2111.11090_originalAbstract.txt  \n",
      "  inflating: GeneratedTextDetection-main/Dataset/Hybrid_AbstractDataset/2111.11107_generatedAbstract.txt  \n",
      "  inflating: GeneratedTextDetection-main/Dataset/Hybrid_AbstractDataset/2111.11107_originalAbstract.txt  \n",
      "  inflating: GeneratedTextDetection-main/Dataset/Hybrid_AbstractDataset/2111.11129_generatedAbstract.txt  \n",
      "  inflating: GeneratedTextDetection-main/Dataset/Hybrid_AbstractDataset/2111.11129_originalAbstract.txt  \n",
      "  inflating: GeneratedTextDetection-main/Dataset/Hybrid_AbstractDataset/2111.11138_generatedAbstract.txt  \n",
      "  inflating: GeneratedTextDetection-main/Dataset/Hybrid_AbstractDataset/2111.11138_originalAbstract.txt  \n",
      "  inflating: GeneratedTextDetection-main/Dataset/Hybrid_AbstractDataset/2111.11146_generatedAbstract.txt  \n",
      "  inflating: GeneratedTextDetection-main/Dataset/Hybrid_AbstractDataset/2111.11146_originalAbstract.txt  \n",
      "  inflating: GeneratedTextDetection-main/Dataset/Hybrid_AbstractDataset/2111.11153_generatedAbstract.txt  \n",
      "  inflating: GeneratedTextDetection-main/Dataset/Hybrid_AbstractDataset/2111.11153_originalAbstract.txt  \n",
      "  inflating: GeneratedTextDetection-main/Dataset/Hybrid_AbstractDataset/2111.11207_generatedAbstract.txt  \n",
      "  inflating: GeneratedTextDetection-main/Dataset/Hybrid_AbstractDataset/2111.11207_originalAbstract.txt  \n",
      "  inflating: GeneratedTextDetection-main/Dataset/Hybrid_AbstractDataset/2111.11212_generatedAbstract.txt  \n",
      "  inflating: GeneratedTextDetection-main/Dataset/Hybrid_AbstractDataset/2111.11212_originalAbstract.txt  \n",
      "  inflating: GeneratedTextDetection-main/Dataset/Hybrid_AbstractDataset/2111.11218_generatedAbstract.txt  \n",
      "  inflating: GeneratedTextDetection-main/Dataset/Hybrid_AbstractDataset/2111.11218_originalAbstract.txt  \n",
      "  inflating: GeneratedTextDetection-main/Dataset/Hybrid_AbstractDataset/2111.11223_generatedAbstract.txt  \n",
      "  inflating: GeneratedTextDetection-main/Dataset/Hybrid_AbstractDataset/2111.11223_originalAbstract.txt  \n",
      "  inflating: GeneratedTextDetection-main/Dataset/Hybrid_AbstractDataset/2111.11250_generatedAbstract.txt  \n",
      "  inflating: GeneratedTextDetection-main/Dataset/Hybrid_AbstractDataset/2111.11250_originalAbstract.txt  \n",
      "  inflating: GeneratedTextDetection-main/Dataset/Hybrid_AbstractDataset/2111.11276_generatedAbstract.txt  \n",
      "  inflating: GeneratedTextDetection-main/Dataset/Hybrid_AbstractDataset/2111.11276_originalAbstract.txt  \n",
      "  inflating: GeneratedTextDetection-main/Dataset/Hybrid_AbstractDataset/2111.11293_generatedAbstract.txt  \n",
      "  inflating: GeneratedTextDetection-main/Dataset/Hybrid_AbstractDataset/2111.11293_originalAbstract.txt  \n",
      "  inflating: GeneratedTextDetection-main/Dataset/Hybrid_AbstractDataset/2111.11295_generatedAbstract.txt  \n",
      "  inflating: GeneratedTextDetection-main/Dataset/Hybrid_AbstractDataset/2111.11295_originalAbstract.txt  \n",
      "  inflating: GeneratedTextDetection-main/Dataset/Hybrid_AbstractDataset/2111.11335_generatedAbstract.txt  \n",
      "  inflating: GeneratedTextDetection-main/Dataset/Hybrid_AbstractDataset/2111.11335_originalAbstract.txt  \n",
      "  inflating: GeneratedTextDetection-main/Dataset/Hybrid_AbstractDataset/2111.11358_generatedAbstract.txt  \n",
      "  inflating: GeneratedTextDetection-main/Dataset/Hybrid_AbstractDataset/2111.11358_originalAbstract.txt  \n",
      "  inflating: GeneratedTextDetection-main/Dataset/Hybrid_AbstractDataset/2111.11402_generatedAbstract.txt  \n",
      "  inflating: GeneratedTextDetection-main/Dataset/Hybrid_AbstractDataset/2111.11402_originalAbstract.txt  \n",
      "  inflating: GeneratedTextDetection-main/Dataset/Hybrid_AbstractDataset/2111.11510_generatedAbstract.txt  \n",
      "  inflating: GeneratedTextDetection-main/Dataset/Hybrid_AbstractDataset/2111.11510_originalAbstract.txt  \n",
      "  inflating: GeneratedTextDetection-main/Dataset/Hybrid_AbstractDataset/2111.11523_generatedAbstract.txt  \n",
      "  inflating: GeneratedTextDetection-main/Dataset/Hybrid_AbstractDataset/2111.11523_originalAbstract.txt  \n",
      "  inflating: GeneratedTextDetection-main/Dataset/Hybrid_AbstractDataset/2111.11525_generatedAbstract.txt  \n",
      "  inflating: GeneratedTextDetection-main/Dataset/Hybrid_AbstractDataset/2111.11525_originalAbstract.txt  \n",
      "  inflating: GeneratedTextDetection-main/Dataset/Hybrid_AbstractDataset/2111.11588_generatedAbstract.txt  \n",
      "  inflating: GeneratedTextDetection-main/Dataset/Hybrid_AbstractDataset/2111.11588_originalAbstract.txt  \n",
      "  inflating: GeneratedTextDetection-main/Dataset/Hybrid_AbstractDataset/2111.11646_generatedAbstract.txt  \n",
      "  inflating: GeneratedTextDetection-main/Dataset/Hybrid_AbstractDataset/2111.11646_originalAbstract.txt  \n",
      "  inflating: GeneratedTextDetection-main/Dataset/Hybrid_AbstractDataset/2111.11647_generatedAbstract.txt  \n",
      "  inflating: GeneratedTextDetection-main/Dataset/Hybrid_AbstractDataset/2111.11647_originalAbstract.txt  \n",
      "  inflating: GeneratedTextDetection-main/Dataset/Hybrid_AbstractDataset/2111.11710_generatedAbstract.txt  \n",
      "  inflating: GeneratedTextDetection-main/Dataset/Hybrid_AbstractDataset/2111.11710_originalAbstract.txt  \n",
      "  inflating: GeneratedTextDetection-main/Dataset/Hybrid_AbstractDataset/2111.11720_generatedAbstract.txt  \n",
      "  inflating: GeneratedTextDetection-main/Dataset/Hybrid_AbstractDataset/2111.11720_originalAbstract.txt  \n",
      "  inflating: GeneratedTextDetection-main/Dataset/Hybrid_AbstractDataset/2111.11755_generatedAbstract.txt  \n",
      "  inflating: GeneratedTextDetection-main/Dataset/Hybrid_AbstractDataset/2111.11755_originalAbstract.txt  \n",
      "  inflating: GeneratedTextDetection-main/Dataset/Hybrid_AbstractDataset/2111.11771_generatedAbstract.txt  \n",
      "  inflating: GeneratedTextDetection-main/Dataset/Hybrid_AbstractDataset/2111.11771_originalAbstract.txt  \n",
      "  inflating: GeneratedTextDetection-main/Dataset/Hybrid_AbstractDataset/2111.11773_generatedAbstract.txt  \n",
      "  inflating: GeneratedTextDetection-main/Dataset/Hybrid_AbstractDataset/2111.11773_originalAbstract.txt  \n",
      "  inflating: GeneratedTextDetection-main/Dataset/Hybrid_AbstractDataset/2111.11856_generatedAbstract.txt  \n",
      "  inflating: GeneratedTextDetection-main/Dataset/Hybrid_AbstractDataset/2111.11856_originalAbstract.txt  \n",
      "  inflating: GeneratedTextDetection-main/Dataset/Hybrid_AbstractDataset/2111.11863_generatedAbstract.txt  \n",
      "  inflating: GeneratedTextDetection-main/Dataset/Hybrid_AbstractDataset/2111.11863_originalAbstract.txt  \n",
      "  inflating: GeneratedTextDetection-main/Dataset/Hybrid_AbstractDataset/2111.11869_generatedAbstract.txt  \n",
      "  inflating: GeneratedTextDetection-main/Dataset/Hybrid_AbstractDataset/2111.11869_originalAbstract.txt  \n",
      "  inflating: GeneratedTextDetection-main/Dataset/Hybrid_AbstractDataset/2111.11964_generatedAbstract.txt  \n",
      "  inflating: GeneratedTextDetection-main/Dataset/Hybrid_AbstractDataset/2111.11964_originalAbstract.txt  \n",
      "  inflating: GeneratedTextDetection-main/Dataset/Hybrid_AbstractDataset/2111.11982_generatedAbstract.txt  \n",
      "  inflating: GeneratedTextDetection-main/Dataset/Hybrid_AbstractDataset/2111.11982_originalAbstract.txt  \n",
      "  inflating: GeneratedTextDetection-main/Dataset/Hybrid_AbstractDataset/2111.12024_generatedAbstract.txt  \n",
      "  inflating: GeneratedTextDetection-main/Dataset/Hybrid_AbstractDataset/2111.12024_originalAbstract.txt  \n",
      "  inflating: GeneratedTextDetection-main/Dataset/Hybrid_AbstractDataset/2111.12055_generatedAbstract.txt  \n",
      "  inflating: GeneratedTextDetection-main/Dataset/Hybrid_AbstractDataset/2111.12055_originalAbstract.txt  \n",
      "  inflating: GeneratedTextDetection-main/Dataset/Hybrid_AbstractDataset/2111.12144_generatedAbstract.txt  \n",
      "  inflating: GeneratedTextDetection-main/Dataset/Hybrid_AbstractDataset/2111.12144_originalAbstract.txt  \n",
      "  inflating: GeneratedTextDetection-main/Dataset/Hybrid_AbstractDataset/2111.12170_generatedAbstract.txt  \n",
      "  inflating: GeneratedTextDetection-main/Dataset/Hybrid_AbstractDataset/2111.12170_originalAbstract.txt  \n",
      "  inflating: GeneratedTextDetection-main/Dataset/Hybrid_AbstractDataset/2111.12197_generatedAbstract.txt  \n",
      "  inflating: GeneratedTextDetection-main/Dataset/Hybrid_AbstractDataset/2111.12197_originalAbstract.txt  \n",
      "  inflating: GeneratedTextDetection-main/Dataset/Hybrid_AbstractDataset/2111.12202_generatedAbstract.txt  \n",
      "  inflating: GeneratedTextDetection-main/Dataset/Hybrid_AbstractDataset/2111.12202_originalAbstract.txt  \n",
      "  inflating: GeneratedTextDetection-main/Dataset/Hybrid_AbstractDataset/2111.12210_generatedAbstract.txt  \n",
      "  inflating: GeneratedTextDetection-main/Dataset/Hybrid_AbstractDataset/2111.12210_originalAbstract.txt  \n",
      "  inflating: GeneratedTextDetection-main/Dataset/Hybrid_AbstractDataset/2111.12454_generatedAbstract.txt  \n",
      "  inflating: GeneratedTextDetection-main/Dataset/Hybrid_AbstractDataset/2111.12454_originalAbstract.txt  \n",
      "  inflating: GeneratedTextDetection-main/Dataset/Hybrid_AbstractDataset/2111.12490_generatedAbstract.txt  \n",
      "  inflating: GeneratedTextDetection-main/Dataset/Hybrid_AbstractDataset/2111.12490_originalAbstract.txt  \n",
      "  inflating: GeneratedTextDetection-main/Dataset/Hybrid_AbstractDataset/2111.12498_generatedAbstract.txt  \n",
      "  inflating: GeneratedTextDetection-main/Dataset/Hybrid_AbstractDataset/2111.12498_originalAbstract.txt  \n",
      "  inflating: GeneratedTextDetection-main/Dataset/Hybrid_AbstractDataset/2111.12560_generatedAbstract.txt  \n",
      "  inflating: GeneratedTextDetection-main/Dataset/Hybrid_AbstractDataset/2111.12560_originalAbstract.txt  \n",
      "  inflating: GeneratedTextDetection-main/Dataset/Hybrid_AbstractDataset/2111.12602_generatedAbstract.txt  \n",
      "  inflating: GeneratedTextDetection-main/Dataset/Hybrid_AbstractDataset/2111.12602_originalAbstract.txt  \n",
      "  inflating: GeneratedTextDetection-main/Dataset/Hybrid_AbstractDataset/2111.12606_generatedAbstract.txt  \n",
      "  inflating: GeneratedTextDetection-main/Dataset/Hybrid_AbstractDataset/2111.12606_originalAbstract.txt  \n",
      "  inflating: GeneratedTextDetection-main/Dataset/Hybrid_AbstractDataset/2111.12679_generatedAbstract.txt  \n",
      "  inflating: GeneratedTextDetection-main/Dataset/Hybrid_AbstractDataset/2111.12679_originalAbstract.txt  \n",
      "  inflating: GeneratedTextDetection-main/Dataset/Hybrid_AbstractDataset/2111.12906_generatedAbstract.txt  \n",
      "  inflating: GeneratedTextDetection-main/Dataset/Hybrid_AbstractDataset/2111.12906_originalAbstract.txt  \n",
      "  inflating: GeneratedTextDetection-main/Dataset/Hybrid_AbstractDataset/2111.12978_generatedAbstract.txt  \n",
      "  inflating: GeneratedTextDetection-main/Dataset/Hybrid_AbstractDataset/2111.12978_originalAbstract.txt  \n",
      "  inflating: GeneratedTextDetection-main/Dataset/Hybrid_AbstractDataset/2111.12986_generatedAbstract.txt  \n",
      "  inflating: GeneratedTextDetection-main/Dataset/Hybrid_AbstractDataset/2111.12986_originalAbstract.txt  \n",
      "  inflating: GeneratedTextDetection-main/Dataset/Hybrid_AbstractDataset/2111.13027_generatedAbstract.txt  \n",
      "  inflating: GeneratedTextDetection-main/Dataset/Hybrid_AbstractDataset/2111.13027_originalAbstract.txt  \n",
      "  inflating: GeneratedTextDetection-main/Dataset/Hybrid_AbstractDataset/2111.13069_generatedAbstract.txt  \n",
      "  inflating: GeneratedTextDetection-main/Dataset/Hybrid_AbstractDataset/2111.13069_originalAbstract.txt  \n",
      "  inflating: GeneratedTextDetection-main/Dataset/Hybrid_AbstractDataset/2111.13122_generatedAbstract.txt  \n",
      "  inflating: GeneratedTextDetection-main/Dataset/Hybrid_AbstractDataset/2111.13122_originalAbstract.txt  \n",
      "  inflating: GeneratedTextDetection-main/Dataset/Hybrid_AbstractDataset/2111.13142_generatedAbstract.txt  \n",
      "  inflating: GeneratedTextDetection-main/Dataset/Hybrid_AbstractDataset/2111.13142_originalAbstract.txt  \n",
      "  inflating: GeneratedTextDetection-main/Dataset/Hybrid_AbstractDataset/2111.13144_generatedAbstract.txt  \n",
      "  inflating: GeneratedTextDetection-main/Dataset/Hybrid_AbstractDataset/2111.13144_originalAbstract.txt  \n",
      "  inflating: GeneratedTextDetection-main/Dataset/Hybrid_AbstractDataset/2111.13145_generatedAbstract.txt  \n",
      "  inflating: GeneratedTextDetection-main/Dataset/Hybrid_AbstractDataset/2111.13145_originalAbstract.txt  \n",
      "  inflating: GeneratedTextDetection-main/Dataset/Hybrid_AbstractDataset/2111.13188_generatedAbstract.txt  \n",
      "  inflating: GeneratedTextDetection-main/Dataset/Hybrid_AbstractDataset/2111.13188_originalAbstract.txt  \n",
      "  inflating: GeneratedTextDetection-main/Dataset/Hybrid_AbstractDataset/2111.13295_generatedAbstract.txt  \n",
      "  inflating: GeneratedTextDetection-main/Dataset/Hybrid_AbstractDataset/2111.13295_originalAbstract.txt  \n",
      "  inflating: GeneratedTextDetection-main/Dataset/Hybrid_AbstractDataset/2111.13326_generatedAbstract.txt  \n",
      "  inflating: GeneratedTextDetection-main/Dataset/Hybrid_AbstractDataset/2111.13326_originalAbstract.txt  \n",
      "  inflating: GeneratedTextDetection-main/Dataset/Hybrid_AbstractDataset/2111.13447_generatedAbstract.txt  \n",
      "  inflating: GeneratedTextDetection-main/Dataset/Hybrid_AbstractDataset/2111.13447_originalAbstract.txt  \n",
      "  inflating: GeneratedTextDetection-main/Dataset/Hybrid_AbstractDataset/2111.13463_generatedAbstract.txt  \n",
      "  inflating: GeneratedTextDetection-main/Dataset/Hybrid_AbstractDataset/2111.13463_originalAbstract.txt  \n",
      "  inflating: GeneratedTextDetection-main/Dataset/Hybrid_AbstractDataset/2111.13550_generatedAbstract.txt  \n",
      "  inflating: GeneratedTextDetection-main/Dataset/Hybrid_AbstractDataset/2111.13550_originalAbstract.txt  \n",
      "  inflating: GeneratedTextDetection-main/Dataset/Hybrid_AbstractDataset/2111.13585_generatedAbstract.txt  \n",
      "  inflating: GeneratedTextDetection-main/Dataset/Hybrid_AbstractDataset/2111.13585_originalAbstract.txt  \n",
      "  inflating: GeneratedTextDetection-main/Dataset/Hybrid_AbstractDataset/2111.13654_generatedAbstract.txt  \n",
      "  inflating: GeneratedTextDetection-main/Dataset/Hybrid_AbstractDataset/2111.13654_originalAbstract.txt  \n",
      " extracting: GeneratedTextDetection-main/Dataset/Hybrid_AbstractDataset/data  \n",
      "  inflating: GeneratedTextDetection-main/README.md  \n",
      "  inflating: GeneratedTextDetection-main/n-gram_BLEU.py  \n",
      "  inflating: GeneratedTextDetection-main/rouge.py  \n"
     ]
    }
   ],
   "source": [
    "!wget https://github.com/vijini/GeneratedTextDetection/archive/refs/heads/main.zip\n",
    "!unzip main"
   ]
  },
  {
   "cell_type": "code",
   "execution_count": 4,
   "metadata": {},
   "outputs": [],
   "source": [
    "\n",
    "root = Path(\"GeneratedTextDetection-main/Dataset/Hybrid_AbstractDataset\")\n",
    "\n",
    "train_texts, train_labels, test_texts, test_labels = [], [], [], []\n",
    "for path in root.glob(\"*.txt\"):\n",
    "    with open(path, 'rt') as file:\n",
    "        text = file.read()\n",
    "        text = text.lstrip('\\ufeff')\n",
    "    label = int(path.name.endswith(\"generatedAbstract.txt\"))\n",
    "    doc_id = int(path.name.split(\"_\")[0].split(\".\")[-1])\n",
    "    if doc_id < 10522:\n",
    "        test_texts.append(text)\n",
    "        test_labels.append(label)\n",
    "    else:\n",
    "        train_texts.append(text)\n",
    "        train_labels.append(label)"
   ]
  },
  {
   "cell_type": "code",
   "execution_count": 16,
   "metadata": {},
   "outputs": [
    {
     "data": {
      "text/plain": [
       "(160, 160)"
      ]
     },
     "execution_count": 16,
     "metadata": {},
     "output_type": "execute_result"
    }
   ],
   "source": [
    "len(train_texts), len(train_labels)"
   ]
  },
  {
   "cell_type": "markdown",
   "metadata": {},
   "source": [
    "### info work dataset\n",
    "- label 0 :: original abstract\n",
    "- label 1 :: generated abstract"
   ]
  },
  {
   "cell_type": "code",
   "execution_count": 10,
   "metadata": {},
   "outputs": [],
   "source": [
    "df_work_train = pd.DataFrame({\n",
    "    \"text\": train_texts,\n",
    "    \"label\": train_labels\n",
    "})"
   ]
  },
  {
   "cell_type": "code",
   "execution_count": 11,
   "metadata": {},
   "outputs": [],
   "source": [
    "df_work_test = pd.DataFrame({\n",
    "    \"text\": test_texts,\n",
    "    \"label\": test_labels\n",
    "})"
   ]
  },
  {
   "cell_type": "markdown",
   "metadata": {},
   "source": [
    "# Information"
   ]
  },
  {
   "cell_type": "markdown",
   "metadata": {},
   "source": [
    "## on new data"
   ]
  },
  {
   "cell_type": "code",
   "execution_count": 6,
   "metadata": {},
   "outputs": [
    {
     "data": {
      "text/plain": [
       "label\n",
       "0    14331\n",
       "1    14331\n",
       "Name: count, dtype: int64"
      ]
     },
     "execution_count": 6,
     "metadata": {},
     "output_type": "execute_result"
    }
   ],
   "source": [
    "df_new[\"label\"].value_counts()"
   ]
  },
  {
   "cell_type": "markdown",
   "metadata": {},
   "source": [
    "## work data"
   ]
  },
  {
   "cell_type": "code",
   "execution_count": 17,
   "metadata": {},
   "outputs": [
    {
     "data": {
      "text/plain": [
       "label\n",
       "1    80\n",
       "0    80\n",
       "Name: count, dtype: int64"
      ]
     },
     "execution_count": 17,
     "metadata": {},
     "output_type": "execute_result"
    }
   ],
   "source": [
    "df_work_train[\"label\"].value_counts()"
   ]
  },
  {
   "cell_type": "code",
   "execution_count": 18,
   "metadata": {},
   "outputs": [
    {
     "data": {
      "text/plain": [
       "label\n",
       "1    20\n",
       "0    20\n",
       "Name: count, dtype: int64"
      ]
     },
     "execution_count": 18,
     "metadata": {},
     "output_type": "execute_result"
    }
   ],
   "source": [
    "df_work_test[\"label\"].value_counts()"
   ]
  },
  {
   "cell_type": "markdown",
   "metadata": {},
   "source": [
    "# clean new data set"
   ]
  },
  {
   "cell_type": "code",
   "execution_count": 8,
   "metadata": {},
   "outputs": [],
   "source": [
    "df_new=df_new.drop(columns=['title'])"
   ]
  },
  {
   "cell_type": "code",
   "execution_count": 9,
   "metadata": {},
   "outputs": [],
   "source": [
    "df_new[\"abstract\"]=df_new[\"abstract\"].apply(lambda abst: clean_text(abst))"
   ]
  },
  {
   "cell_type": "code",
   "execution_count": 19,
   "metadata": {},
   "outputs": [
    {
     "data": {
      "text/plain": [
       "Index(['abstract', 'label'], dtype='object')"
      ]
     },
     "execution_count": 19,
     "metadata": {},
     "output_type": "execute_result"
    }
   ],
   "source": [
    "df_new.columns"
   ]
  },
  {
   "cell_type": "code",
   "execution_count": 20,
   "metadata": {},
   "outputs": [],
   "source": [
    "df2 = df_new.rename(columns={'abstract': 'text'})"
   ]
  },
  {
   "cell_type": "code",
   "execution_count": 22,
   "metadata": {},
   "outputs": [
    {
     "data": {
      "text/plain": [
       "Index(['text', 'label'], dtype='object')"
      ]
     },
     "execution_count": 22,
     "metadata": {},
     "output_type": "execute_result"
    }
   ],
   "source": [
    "df2.columns"
   ]
  },
  {
   "cell_type": "markdown",
   "metadata": {},
   "source": [
    "# create the new dataset"
   ]
  },
  {
   "cell_type": "markdown",
   "metadata": {},
   "source": [
    "## training"
   ]
  },
  {
   "cell_type": "code",
   "execution_count": 27,
   "metadata": {},
   "outputs": [
    {
     "name": "stdout",
     "output_type": "stream",
     "text": [
      "label\n",
      "1    5000\n",
      "0    5000\n",
      "Name: count, dtype: int64\n"
     ]
    },
    {
     "data": {
      "text/plain": [
       "text     10000\n",
       "label    10000\n",
       "dtype: int64"
      ]
     },
     "execution_count": 27,
     "metadata": {},
     "output_type": "execute_result"
    }
   ],
   "source": [
    "# selection aléatoire des valoir constituant le data set training\n",
    "df2_label_0_tr = df2[df2['label'] == 0].head(n=4920 )\n",
    "df2_label_1_tr = df2[df2['label'] == 1].head(n=4920)\n",
    "df2_sampled_tr = pd.concat([df2_label_0_tr, df2_label_1_tr])\n",
    "\n",
    "#combined the new and the work dataset\n",
    "df_combined_tr = pd.concat([df2_sampled_tr, df_work_train])\n",
    "df_final_tr = df_combined_tr.sample(frac=1, random_state=1).reset_index(drop=True)\n",
    "print(df_final_tr[\"label\"].value_counts())\n",
    "df_final_tr.count()\n"
   ]
  },
  {
   "cell_type": "code",
   "execution_count": 29,
   "metadata": {},
   "outputs": [],
   "source": [
    "df_final_tr[\"status\"]='train'"
   ]
  },
  {
   "cell_type": "markdown",
   "metadata": {},
   "source": [
    "## test"
   ]
  },
  {
   "cell_type": "code",
   "execution_count": 28,
   "metadata": {},
   "outputs": [
    {
     "name": "stdout",
     "output_type": "stream",
     "text": [
      "label\n",
      "1    1250\n",
      "0    1250\n",
      "Name: count, dtype: int64\n"
     ]
    },
    {
     "data": {
      "text/plain": [
       "text     2500\n",
       "label    2500\n",
       "dtype: int64"
      ]
     },
     "execution_count": 28,
     "metadata": {},
     "output_type": "execute_result"
    }
   ],
   "source": [
    "# selection aléatoire des valoir constituant le data set training\n",
    "df2_label_0_ts = df2[df2['label'] == 0].tail(n=1230 )\n",
    "df2_label_1_ts = df2[df2['label'] == 1].tail(n=1230)\n",
    "df2_sampled_ts = pd.concat([df2_label_0_ts, df2_label_1_ts])\n",
    "\n",
    "#combined the new and the work dataset\n",
    "df_combined_ts = pd.concat([df2_sampled_ts, df_work_test])\n",
    "df_final_ts = df_combined_ts.sample(frac=1, random_state=1).reset_index(drop=True)\n",
    "print(df_final_ts[\"label\"].value_counts())\n",
    "df_final_ts.count()"
   ]
  },
  {
   "cell_type": "code",
   "execution_count": 31,
   "metadata": {},
   "outputs": [],
   "source": [
    "df_final_ts[\"status\"]='test'"
   ]
  },
  {
   "cell_type": "markdown",
   "metadata": {},
   "source": [
    "# final data set"
   ]
  },
  {
   "cell_type": "code",
   "execution_count": 34,
   "metadata": {},
   "outputs": [],
   "source": [
    "df_combined = pd.concat([df_final_tr, df_final_ts])\n",
    "\n",
    "# Sauvegarder le DataFrame combiné en CSV\n",
    "df_combined.to_csv('combined_dataset.csv', index=False)"
   ]
  }
 ],
 "metadata": {
  "kernelspec": {
   "display_name": "venv",
   "language": "python",
   "name": "python3"
  },
  "language_info": {
   "codemirror_mode": {
    "name": "ipython",
    "version": 3
   },
   "file_extension": ".py",
   "mimetype": "text/x-python",
   "name": "python",
   "nbconvert_exporter": "python",
   "pygments_lexer": "ipython3",
   "version": "3.12.1"
  }
 },
 "nbformat": 4,
 "nbformat_minor": 2
}
